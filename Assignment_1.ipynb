{
 "cells": [
  {
   "cell_type": "markdown",
   "id": "d9f4367b",
   "metadata": {},
   "source": [
    "#  1. In the below elements which of them are values or an expression?  \n",
    "\n",
    "### (Hint :- values can be integer or string and expressions will be mathematical operators).\n",
    "   a) *\n",
    "   b)'hello'\n",
    "   c)-87.8\n",
    "   d) -\n",
    "   e) /\n",
    "   f) +\n",
    "   g) 6\n",
    "\n",
    "# Ans.\n",
    "\n",
    "In python programming language, values can be integer, float or string and expressions will be mathematical operators.\n",
    "\n",
    "Hence, \n",
    "    b) 'hello' (string)\n",
    "    c) -87.8 (float)\n",
    "    g) 6 (integer)\n",
    "are values.\n",
    "\n",
    "While,\n",
    "    a)* (multiplication)\n",
    "    d)- (subtraction)\n",
    "    e)/ (Division)\n",
    "    f)+ (Addition)\n",
    "are expressions."
   ]
  },
  {
   "cell_type": "markdown",
   "id": "21cee5c5",
   "metadata": {},
   "source": [
    "# 2. What is the difference between string and variable?\n",
    "\n",
    "# Ans.\n",
    "\n",
    "String:\n",
    "\n",
    "A string in Python is a sequence of characters enclosed within either single ('') or double (\"\") or triple ('''''') quotation marks. Strings can contain letters, numbers, symbols, and spaces, and they are used to represent textual data.\n",
    "\n",
    "\n",
    "Variable:\n",
    "\n",
    "A variable in Python is a named identifier that can hold a value. The value stored in a variable can be of various types, including strings, numbers, lists, dictionaries, etc. Variables are used to store and manipulate data within a program.\n",
    "\n",
    "Eg."
   ]
  },
  {
   "cell_type": "code",
   "execution_count": 1,
   "id": "1433d093",
   "metadata": {},
   "outputs": [
    {
     "name": "stdout",
     "output_type": "stream",
     "text": [
      "Hello\n"
     ]
    }
   ],
   "source": [
    "s = 'Hello' # here s is a varible that stores string data type while Hello enclose in ('') is a string.\n",
    "\n",
    "print(s)"
   ]
  },
  {
   "cell_type": "markdown",
   "id": "9a04df45",
   "metadata": {},
   "source": [
    "# 3. Describe three different data types.\n",
    "\n",
    "\n",
    "# Ans.\n",
    "\n",
    "### Integer (int):\n",
    "An integer is a whole number, both positive and negative, without any decimal point. Integers are used to represent quantities that don't have fractional parts.\n",
    "\n",
    "### Float:\n",
    "A float (floating-point number) is a number with a decimal point. It is used to represent real numbers that can have fractional parts. Floats are commonly used for calculations involving decimals.\n",
    "\n",
    "### String:\n",
    "A string is a sequence of characters enclosed within single ('') or double (\"\") quotation marks. Strings are used to represent textual data. They can contain letters, numbers, symbols, and spaces. Strings are versatile and are used for various purposes, such as storing names, messages, and more.\n",
    "\n",
    "\n",
    "### Note: Python is a dynamically typed language. Hence, we do not need to declare the type of variable during definition\n",
    "\n",
    "Eg.\n"
   ]
  },
  {
   "cell_type": "code",
   "execution_count": 11,
   "id": "d0982f66",
   "metadata": {},
   "outputs": [
    {
     "name": "stdout",
     "output_type": "stream",
     "text": [
      "Here 1 is an integer, 5.4 is a float while Hello s a string data type\n",
      "data type of num is: <class 'int'>\n",
      "data type of dec is: <class 'float'>\n",
      "data type of txt is: <class 'str'>\n"
     ]
    }
   ],
   "source": [
    "num = 1  #integer\n",
    "\n",
    "dec = 5.4  #float\n",
    "\n",
    "txt = 'Hello'  #string\n",
    "\n",
    "print(f'Here {num} is an integer, {dec} is a float while {txt} s a string data type')\n",
    "\n",
    "print(f'data type of num is: {type(num)}')\n",
    "print(f'data type of dec is: {type(dec)}')\n",
    "print(f'data type of txt is: {type(txt)}')"
   ]
  },
  {
   "cell_type": "markdown",
   "id": "59997ad5",
   "metadata": {},
   "source": [
    "# What is an expression made up of? What do all expressions do?\n",
    "\n",
    "# Ans.\n",
    "\n",
    "An expression in programming is a combination of values, variables, operators, and function calls that can be evaluated to produce a result. Expressions represent computations and are used to perform operations on data.\n",
    "\n",
    "An expression can be made up of the following components:\n",
    "\n",
    "   1. Values: These are constants like numbers or strings, which are the basic data elements in programming. \n",
    "      For example, 5, \"hello\", and 3.14 are values.\n",
    "\n",
    "   2. Variables: These are named storage locations (identifiers) that hold values. \n",
    "\n",
    "   3. Operators: Operators are symbols or keywords that perform various operations on one or more values or variables. \n",
    "      Examples of operators include + (addition), - (subtraction), * (multiplication), / (division), etc.\n",
    "\n",
    "   4. Function Calls: Functions are blocks of code that perform specific tasks.  \n",
    "      Functions can also be part of expressions, and their return values can be used as part of larger expressions.\n",
    "\n",
    "All expressions in programming serve the common purpose of evaluating to a value. The value that an expression evaluates to can be of various types, such as numbers, strings, boolean values, objects, and more. The specific behavior of an expression depends on its components (values, variables, operators, and function calls) and how they are combine\n",
    "\n",
    "\n",
    "Eg.\n"
   ]
  },
  {
   "cell_type": "code",
   "execution_count": 13,
   "id": "a2f743c2",
   "metadata": {},
   "outputs": [
    {
     "name": "stdout",
     "output_type": "stream",
     "text": [
      "11\n"
     ]
    }
   ],
   "source": [
    "x = 5\n",
    "y = 3\n",
    "result = x + y * 2    #expression\n",
    "print(result)         # Output: 11\n"
   ]
  },
  {
   "cell_type": "markdown",
   "id": "a6d85cc6",
   "metadata": {},
   "source": [
    "# 5. This assignment statements, like spam = 10. What is the difference between an expression and a statement?\n",
    "\n",
    "# Ans.\n",
    "\n",
    "Difference between Expression and Statement:\n",
    "The main difference between expressions and statements lies in their primary purpose and behavior:\n",
    "\n",
    "### Purpose:\n",
    "\n",
    "Expressions are used to compute values, generate data, and produce results.\n",
    "Statements are used to perform actions, control program flow, and define the program's structure.\n",
    "\n",
    "### Value:\n",
    "Expressions always have a value that they evaluate to. For example, 5 + 3 evaluates to 8.\n",
    "Statements may not necessarily have a value. An assignment statement like spam = 10 doesn't produce a value on its own; it assigns the value 10 to the variable spam.\n",
    "\n",
    "### Usage:\n",
    "Expressions are often used within statements to provide values for calculations, comparisons, and decisions.\n",
    "Statements provide the structure and control for the program, defining what actions to take and in what order.\n",
    "\n",
    "Eg."
   ]
  },
  {
   "cell_type": "code",
   "execution_count": 18,
   "id": "1d77ed72",
   "metadata": {},
   "outputs": [
    {
     "name": "stdout",
     "output_type": "stream",
     "text": [
      "13\n",
      "**********************************************\n",
      "Spams are greater than 10\n"
     ]
    }
   ],
   "source": [
    "spam = 10      # Assignment statement\n",
    "new_spam = 3      # Assignment statement\n",
    "result = spam + new_spam  # Expression: x + y\n",
    "print(result)  # Output: 13\n",
    "\n",
    "print('**********************************************')\n",
    "\n",
    "if result > 10:  # Conditional statement\n",
    "    print(\"Spams are greater than 10\")\n",
    "else:\n",
    "    print(\"Spams under control\")\n",
    "\n"
   ]
  },
  {
   "cell_type": "markdown",
   "id": "7c86cf0c",
   "metadata": {},
   "source": [
    "# 6. After running the following code, what does the variable bacon contain?\n",
    "\n",
    "### bacon = 22\n",
    "### bacon + 1\n",
    "\n",
    "# Ans.\n",
    "After running the given code, the variable bacon will still contain the value 22. The expression bacon + 1 is not assigned to any variable, so the result of the expression is calculated but not stored anywhere. If you want to update the value of bacon to include the result of the expression, you would need to explicitly assign the result back to the variable.\n",
    "\n",
    "Execution in cell below"
   ]
  },
  {
   "cell_type": "code",
   "execution_count": 23,
   "id": "57bae89b",
   "metadata": {},
   "outputs": [
    {
     "name": "stdout",
     "output_type": "stream",
     "text": [
      "the value of bacon is22\n",
      "**************************************************\n",
      "the value of bacon is still 22\n",
      "**************************************************\n",
      "the value of bacon after assignment is23\n"
     ]
    }
   ],
   "source": [
    "bacon = 22\n",
    "print(f'the value of bacon is{bacon}')\n",
    "print('*' * 50)\n",
    "bacon + 1\n",
    "print(f'the value of bacon is still {bacon}')\n",
    "print('*' * 50)\n",
    "bacon = bacon + 1  # Updating the value of bacon with the result of bacon + 1\n",
    "print(f'the value of bacon after assignment is{bacon}')"
   ]
  },
  {
   "cell_type": "markdown",
   "id": "19318f0c",
   "metadata": {},
   "source": [
    "# 7. What should the values of the following two terms be?\n",
    "'spam' + 'spamspam'\n",
    "'spam' * 3\n",
    "\n",
    "# Ans.\n",
    "\n",
    "The values of the two terms will be as follows:\n",
    "\n",
    "1. `'spam' + 'spamspam'`:\n",
    "   This expression performs string concatenation. It joins the string `'spam'` with the string `'spamspam'`, resulting in `'spamspamspam'`.\n",
    "\n",
    "2. `'spam' * 3`:\n",
    "   This expression performs string repetition. It repeats the string `'spam'` three times, resulting in `'spamspamspam'`.\n",
    "\n",
    "So, the values of both terms will be `'spamspamspam'`.\n",
    "\n",
    "Execution in cell below"
   ]
  },
  {
   "cell_type": "code",
   "execution_count": 26,
   "id": "f4289901",
   "metadata": {},
   "outputs": [
    {
     "name": "stdout",
     "output_type": "stream",
     "text": [
      "spamspamspam\n",
      "**************************************************\n",
      "spamspamspam\n"
     ]
    }
   ],
   "source": [
    "# String concatenation\n",
    "concatenated_string = 'spam' + 'spamspam'\n",
    "print(concatenated_string)  # Output: 'spamspamspam'\n",
    "print('*'*50)\n",
    "# String repetition\n",
    "repeated_string = 'spam' * 3\n",
    "print(repeated_string)  # Output: 'spamspamspam'\n"
   ]
  },
  {
   "cell_type": "markdown",
   "id": "2de4d8e3",
   "metadata": {},
   "source": [
    "# 8. Why is eggs a valid variable name while 100 is invalid?\n",
    "\n",
    "# Ans.\n",
    "\n",
    "In Python, variable names must adhere to certain rules and conventions. The rules for naming variables include:\n",
    "\n",
    "  1.  Start with a letter or underscore: Variable names must start with either a letter (a-z, A-Z) or an underscore (_).\n",
    "\n",
    "  2.  Followed by letters, digits, or underscores: After the initial character, variable names can consist of letters,\n",
    "      digits (0-9), or underscores.\n",
    "\n",
    "  3.  Cannot start with a digit: Variable names cannot start with a digit (0-9).\n",
    "\n",
    "Hence:\n",
    "\n",
    "    eggs: This is a valid variable name because it starts with a letter (e) and is followed by more letters. It adheres to \n",
    "    the rules for variable naming in Python.\n",
    "\n",
    "    100: This is an invalid variable name because it starts with a digit (1). According to the rules, variable names cannot \n",
    "    start with digits.\n"
   ]
  },
  {
   "cell_type": "code",
   "execution_count": 27,
   "id": "8561d021",
   "metadata": {},
   "outputs": [
    {
     "name": "stdout",
     "output_type": "stream",
     "text": [
      "This is a valid variable name.\n"
     ]
    }
   ],
   "source": [
    "eggs = \"This is a valid variable name.\"\n",
    "print(eggs)"
   ]
  },
  {
   "cell_type": "code",
   "execution_count": 28,
   "id": "92aa1193",
   "metadata": {},
   "outputs": [
    {
     "ename": "SyntaxError",
     "evalue": "cannot assign to literal (3584843282.py, line 1)",
     "output_type": "error",
     "traceback": [
      "\u001b[1;36m  File \u001b[1;32m\"C:\\Users\\AMIT CHAURASIA\\AppData\\Local\\Temp\\ipykernel_20532\\3584843282.py\"\u001b[1;36m, line \u001b[1;32m1\u001b[0m\n\u001b[1;33m    100 =  \"This is an invalid variable name.\"\u001b[0m\n\u001b[1;37m    ^\u001b[0m\n\u001b[1;31mSyntaxError\u001b[0m\u001b[1;31m:\u001b[0m cannot assign to literal\n"
     ]
    }
   ],
   "source": [
    "100 =  \"This is an invalid variable name.\"\n",
    "print(100)"
   ]
  },
  {
   "cell_type": "markdown",
   "id": "58597e93",
   "metadata": {},
   "source": [
    "# 9. What three functions can be used to get the integer, floating-point number, or string version of a value?\n",
    "\n",
    "# Ans.\n",
    "\n",
    "### Integer Conversion: int()\n",
    "    The int() function is used to convert a value to an integer. It can convert a string containing an integer \n",
    "    representation, a floating-point number, or another numeric type to an integer.\n",
    "\n",
    "### Floating-Point Conversion: float()\n",
    "    The float() function is used to convert a value to a floating-point number. It can convert a string containing a \n",
    "    floating-point representation or another numeric type to a floating-point number.\n",
    "\n",
    "### String Conversion: str()\n",
    "    The str() function is used to convert a value to its string representation. It can convert any data type to a string.\n",
    "\n",
    "Eg."
   ]
  },
  {
   "cell_type": "code",
   "execution_count": 30,
   "id": "795acedc",
   "metadata": {},
   "outputs": [
    {
     "name": "stdout",
     "output_type": "stream",
     "text": [
      "Initial type: <class 'str'>\n",
      "Changed type: <class 'int'>\n",
      "**************************************************\n",
      "Initial type: <class 'str'>\n",
      "Changed type: <class 'float'>\n",
      "**************************************************\n",
      "Initial type: <class 'int'>\n",
      "Change type: <class 'str'>\n"
     ]
    }
   ],
   "source": [
    "num_str = \"42\"\n",
    "print(f'Initial type: {type(num_str)}')\n",
    "str_int = int(num_str)  # Converts the string \"42\" to an integer 42\n",
    "print(f'Changed type: {type(str_int)}')\n",
    "print('*' * 50)\n",
    "\n",
    "flt_str = \"3.14\"\n",
    "print(f'Initial type: {type(flt_str)}')\n",
    "str_float = float(flt_str)  # Converts the string \"3.14\" to a floating-point number 3.14\n",
    "print(f'Changed type: {type(str_float)}')\n",
    "print('*' * 50)\n",
    "\n",
    "str_int = 42\n",
    "print(f'Initial type: {type(str_int)}')\n",
    "int_str = str(str_int)  # Converts the integer 42 to a string \"42\"\n",
    "print(f'Change type: {type(int_str)}')"
   ]
  },
  {
   "cell_type": "markdown",
   "id": "fa51f4d0",
   "metadata": {},
   "source": [
    "# 10. Why does this expression cause an error? How can you fix it?\n",
    "## 'I have eaten' + 99 + 'burritos.'\n",
    "\n",
    "# Ans.\n",
    "\n",
    "### Reason:\n",
    "The expression 'I have eaten' + 99 + 'burritos.' causes an error because it attempts to concatenate a string ('I have eaten') with an integer (99) directly without any conversion. In Python, we cannot concatenate different data types like this without explicitly converting them to a compatible type first.\n",
    "\n",
    "\n",
    "### Fixing:\n",
    "To fix this error, we need to ensure that all parts of the expression are of the same data type before performing the concatenation. We can convert the integer 99 to a string using the str() function or enclosing it between quotation marks (''), so that it can be concatenated with the other strings.\n",
    "\n",
    "Eg."
   ]
  },
  {
   "cell_type": "code",
   "execution_count": 33,
   "id": "ce89bf0e",
   "metadata": {},
   "outputs": [
    {
     "ename": "TypeError",
     "evalue": "can only concatenate str (not \"int\") to str",
     "output_type": "error",
     "traceback": [
      "\u001b[1;31m---------------------------------------------------------------------------\u001b[0m",
      "\u001b[1;31mTypeError\u001b[0m                                 Traceback (most recent call last)",
      "\u001b[1;32m~\\AppData\\Local\\Temp\\ipykernel_20532\\2041031896.py\u001b[0m in \u001b[0;36m<module>\u001b[1;34m\u001b[0m\n\u001b[1;32m----> 1\u001b[1;33m \u001b[0mError\u001b[0m \u001b[1;33m=\u001b[0m \u001b[1;34m'I have eaten'\u001b[0m \u001b[1;33m+\u001b[0m \u001b[1;36m99\u001b[0m \u001b[1;33m+\u001b[0m \u001b[1;34m'burritos.'\u001b[0m\u001b[1;33m\u001b[0m\u001b[1;33m\u001b[0m\u001b[0m\n\u001b[0m",
      "\u001b[1;31mTypeError\u001b[0m: can only concatenate str (not \"int\") to str"
     ]
    }
   ],
   "source": [
    "Error = 'I have eaten' + 99 + 'burritos.'"
   ]
  },
  {
   "cell_type": "code",
   "execution_count": 32,
   "id": "9119a9d2",
   "metadata": {},
   "outputs": [
    {
     "name": "stdout",
     "output_type": "stream",
     "text": [
      "I have eaten 99 burritos.\n",
      "Or **************************************************\n",
      "I have eaten 99 burritos.\n"
     ]
    }
   ],
   "source": [
    "result = 'I have eaten ' + str(99) + ' burritos.'\n",
    "print(result)\n",
    "\n",
    "print('Or '+ \"*\"*50)\n",
    "\n",
    "result2 = 'I have eaten ' + '99' + ' burritos.'\n",
    "print(result2)"
   ]
  }
 ],
 "metadata": {
  "kernelspec": {
   "display_name": "Python 3 (ipykernel)",
   "language": "python",
   "name": "python3"
  },
  "language_info": {
   "codemirror_mode": {
    "name": "ipython",
    "version": 3
   },
   "file_extension": ".py",
   "mimetype": "text/x-python",
   "name": "python",
   "nbconvert_exporter": "python",
   "pygments_lexer": "ipython3",
   "version": "3.9.13"
  }
 },
 "nbformat": 4,
 "nbformat_minor": 5
}
